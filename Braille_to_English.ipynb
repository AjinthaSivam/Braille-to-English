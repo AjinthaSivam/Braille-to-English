{
  "cells": [
    {
      "cell_type": "markdown",
      "metadata": {
        "id": "view-in-github",
        "colab_type": "text"
      },
      "source": [
        "<a href=\"https://colab.research.google.com/github/AjinthaSivam/Braille-to-English/blob/main/Braille_to_English.ipynb\" target=\"_parent\"><img src=\"https://colab.research.google.com/assets/colab-badge.svg\" alt=\"Open In Colab\"/></a>"
      ]
    },
    {
      "cell_type": "code",
      "execution_count": 1,
      "metadata": {
        "id": "ppkt-sVDhSl9"
      },
      "outputs": [],
      "source": [
        "!pip install -qU kagglehub"
      ]
    },
    {
      "cell_type": "code",
      "execution_count": 2,
      "metadata": {
        "id": "TMQ9hWbsiCdY"
      },
      "outputs": [],
      "source": [
        "!mkdir -p ~/.kaggle\n",
        "!mv kaggle.json ~/.kaggle/\n",
        "!chmod 600 ~/.kaggle/kaggle.json"
      ]
    },
    {
      "cell_type": "code",
      "execution_count": 3,
      "metadata": {
        "colab": {
          "base_uri": "https://localhost:8080/"
        },
        "id": "cxss2A7yiw4D",
        "outputId": "9a32d4b0-6e47-4aa4-aefd-515bf1c9a5d5"
      },
      "outputs": [
        {
          "output_type": "stream",
          "name": "stdout",
          "text": [
            "Downloading from https://www.kaggle.com/api/v1/datasets/download/shanks0465/braille-character-dataset?dataset_version_number=1...\n"
          ]
        },
        {
          "output_type": "stream",
          "name": "stderr",
          "text": [
            "100%|██████████| 1.30M/1.30M [00:00<00:00, 131MB/s]"
          ]
        },
        {
          "output_type": "stream",
          "name": "stdout",
          "text": [
            "Extracting files...\n",
            "Path to dataset files: /root/.cache/kagglehub/datasets/shanks0465/braille-character-dataset/versions/1\n"
          ]
        },
        {
          "output_type": "stream",
          "name": "stderr",
          "text": [
            "\n"
          ]
        }
      ],
      "source": [
        "import kagglehub\n",
        "\n",
        "# Download latest version\n",
        "path = kagglehub.dataset_download(\"shanks0465/braille-character-dataset\")\n",
        "\n",
        "print(\"Path to dataset files:\", path)"
      ]
    },
    {
      "cell_type": "code",
      "execution_count": 4,
      "metadata": {
        "id": "BrrWD9yYjJLK"
      },
      "outputs": [],
      "source": [
        "import cv2\n",
        "import numpy as np\n",
        "import tensorflow as tf\n",
        "from tensorflow.keras import layers, models\n",
        "import os\n",
        "from google.colab import files"
      ]
    },
    {
      "cell_type": "code",
      "execution_count": 5,
      "metadata": {
        "id": "o1JgbZBBob3a"
      },
      "outputs": [],
      "source": [
        "def load_braille_dataset(dataset_path):\n",
        "  images = []\n",
        "  labels = []\n",
        "\n",
        "  label_map = {}\n",
        "\n",
        "  for i in range(26):\n",
        "    letter = chr(97 + i)\n",
        "    label_map[letter] = i\n",
        "\n",
        "  print(label_map)\n",
        "\n",
        "  label_reverse = {}\n",
        "\n",
        "  for i in range(26):\n",
        "    letter = chr(97 + i)\n",
        "    label_reverse[i] = letter\n",
        "\n",
        "  print(label_reverse)\n",
        "\n",
        "  for img_name in os.listdir(dataset_path):\n",
        "    if img_name.lower().endswith(('.jpg', 'jpeg')):\n",
        "      img_path = os.path.join(dataset_path, img_name)\n",
        "      img = cv2.imread(img_path, cv2.IMREAD_GRAYSCALE)\n",
        "\n",
        "      if img is not None:\n",
        "        img = cv2.resize(img, (28, 28)) / 255.0\n",
        "        images.append(img)\n",
        "\n",
        "        char = img_name[0].lower()\n",
        "\n",
        "        if char in label_map:\n",
        "          label = label_map[char]\n",
        "          labels.append(label)\n",
        "        else:\n",
        "          print(f\"Unknown character: {char}\")\n",
        "      else:\n",
        "        print(f\"Failed to load image: {img_path}\")\n",
        "    else:\n",
        "      print(f\"Skipping non-image file: {img_name}\")\n",
        "\n",
        "  images = np.array(images).reshape(-1, 28, 28, 1)\n",
        "  labels = np.array(labels)\n",
        "  print(f\"Total images loaded: {len(images)}, Total labels: {len(labels)}\")\n",
        "  return images, labels, label_reverse"
      ]
    },
    {
      "cell_type": "code",
      "execution_count": 6,
      "metadata": {
        "colab": {
          "base_uri": "https://localhost:8080/"
        },
        "id": "idQ9baigzRII",
        "collapsed": true,
        "outputId": "80cc1165-0292-416c-ca49-7ac43be2d633"
      },
      "outputs": [
        {
          "output_type": "stream",
          "name": "stdout",
          "text": [
            "{'a': 0, 'b': 1, 'c': 2, 'd': 3, 'e': 4, 'f': 5, 'g': 6, 'h': 7, 'i': 8, 'j': 9, 'k': 10, 'l': 11, 'm': 12, 'n': 13, 'o': 14, 'p': 15, 'q': 16, 'r': 17, 's': 18, 't': 19, 'u': 20, 'v': 21, 'w': 22, 'x': 23, 'y': 24, 'z': 25}\n",
            "{0: 'a', 1: 'b', 2: 'c', 3: 'd', 4: 'e', 5: 'f', 6: 'g', 7: 'h', 8: 'i', 9: 'j', 10: 'k', 11: 'l', 12: 'm', 13: 'n', 14: 'o', 15: 'p', 16: 'q', 17: 'r', 18: 's', 19: 't', 20: 'u', 21: 'v', 22: 'w', 23: 'x', 24: 'y', 25: 'z'}\n",
            "Total images loaded: 1560, Total labels: 1560\n"
          ]
        }
      ],
      "source": [
        "dataset_path = os.path.join(path, \"Braille Dataset/Braille Dataset\")\n",
        "images, labels, label_reverse = load_braille_dataset(dataset_path)"
      ]
    },
    {
      "cell_type": "code",
      "source": [
        "# Function to create and train the CNN model\n",
        "def create_and_train_model(X_train, y_train, X_val, y_val):\n",
        "    model = models.Sequential([\n",
        "        layers.Conv2D(32, (3, 3), activation='relu', input_shape=(28, 28, 1)),\n",
        "        layers.MaxPooling2D((2, 2)),\n",
        "        layers.Conv2D(64, (3, 3), activation='relu'),\n",
        "        layers.MaxPooling2D((2, 2)),\n",
        "        layers.Conv2D(64, (3, 3), activation='relu'),\n",
        "        layers.Flatten(),\n",
        "        layers.Dense(128, activation='relu'),  # Increased units for better learning\n",
        "        layers.Dropout(0.4),  # Add dropout to prevent overfitting\n",
        "        layers.Dense(26, activation='softmax')  # a-z only\n",
        "    ])\n",
        "\n",
        "    model.compile(optimizer='adam',\n",
        "                  loss='sparse_categorical_crossentropy',\n",
        "                  metrics=['accuracy'])\n",
        "\n",
        "    history = model.fit(X_train, y_train, epochs=30, validation_data=(X_val, y_val),\n",
        "                        batch_size=32)\n",
        "    print(f\"Training accuracy: {max(history.history['accuracy']):.4f}\")\n",
        "    print(f\"Validation accuracy: {max(history.history['val_accuracy']):.4f}\")\n",
        "    return model"
      ],
      "metadata": {
        "id": "Ofw_7ZyW1u1a"
      },
      "execution_count": 8,
      "outputs": []
    },
    {
      "cell_type": "code",
      "source": [
        "from sklearn.model_selection import train_test_split\n",
        "\n",
        "# Split data into training and validation sets\n",
        "X_train, X_val, y_train, y_val = train_test_split(images, labels, test_size=0.2, random_state=42)\n",
        "\n",
        "# Create and train model\n",
        "model = create_and_train_model(X_train, y_train, X_val, y_val)\n",
        "\n",
        "# Save the model\n",
        "model.save(\"braille_model.h5\")\n",
        "print(\"Model saved as braille_model.h5\")"
      ],
      "metadata": {
        "colab": {
          "base_uri": "https://localhost:8080/"
        },
        "id": "KY4G7IuO2D2_",
        "outputId": "48be209b-5ede-4ffe-8fb0-eae02cca2a14"
      },
      "execution_count": 9,
      "outputs": [
        {
          "output_type": "stream",
          "name": "stderr",
          "text": [
            "/usr/local/lib/python3.11/dist-packages/keras/src/layers/convolutional/base_conv.py:107: UserWarning: Do not pass an `input_shape`/`input_dim` argument to a layer. When using Sequential models, prefer using an `Input(shape)` object as the first layer in the model instead.\n",
            "  super().__init__(activity_regularizer=activity_regularizer, **kwargs)\n"
          ]
        },
        {
          "output_type": "stream",
          "name": "stdout",
          "text": [
            "Epoch 1/30\n",
            "\u001b[1m39/39\u001b[0m \u001b[32m━━━━━━━━━━━━━━━━━━━━\u001b[0m\u001b[37m\u001b[0m \u001b[1m7s\u001b[0m 45ms/step - accuracy: 0.0401 - loss: 3.2678 - val_accuracy: 0.1250 - val_loss: 3.2504\n",
            "Epoch 2/30\n",
            "\u001b[1m39/39\u001b[0m \u001b[32m━━━━━━━━━━━━━━━━━━━━\u001b[0m\u001b[37m\u001b[0m \u001b[1m0s\u001b[0m 4ms/step - accuracy: 0.0667 - loss: 3.2096 - val_accuracy: 0.1987 - val_loss: 2.7729\n",
            "Epoch 3/30\n",
            "\u001b[1m39/39\u001b[0m \u001b[32m━━━━━━━━━━━━━━━━━━━━\u001b[0m\u001b[37m\u001b[0m \u001b[1m0s\u001b[0m 4ms/step - accuracy: 0.2333 - loss: 2.5437 - val_accuracy: 0.5321 - val_loss: 1.9105\n",
            "Epoch 4/30\n",
            "\u001b[1m39/39\u001b[0m \u001b[32m━━━━━━━━━━━━━━━━━━━━\u001b[0m\u001b[37m\u001b[0m \u001b[1m0s\u001b[0m 4ms/step - accuracy: 0.3841 - loss: 1.9269 - val_accuracy: 0.5737 - val_loss: 1.4989\n",
            "Epoch 5/30\n",
            "\u001b[1m39/39\u001b[0m \u001b[32m━━━━━━━━━━━━━━━━━━━━\u001b[0m\u001b[37m\u001b[0m \u001b[1m0s\u001b[0m 4ms/step - accuracy: 0.5677 - loss: 1.5112 - val_accuracy: 0.6571 - val_loss: 1.2247\n",
            "Epoch 6/30\n",
            "\u001b[1m39/39\u001b[0m \u001b[32m━━━━━━━━━━━━━━━━━━━━\u001b[0m\u001b[37m\u001b[0m \u001b[1m0s\u001b[0m 4ms/step - accuracy: 0.6385 - loss: 1.2255 - val_accuracy: 0.7147 - val_loss: 1.0415\n",
            "Epoch 7/30\n",
            "\u001b[1m39/39\u001b[0m \u001b[32m━━━━━━━━━━━━━━━━━━━━\u001b[0m\u001b[37m\u001b[0m \u001b[1m0s\u001b[0m 4ms/step - accuracy: 0.6785 - loss: 1.0383 - val_accuracy: 0.7308 - val_loss: 0.8901\n",
            "Epoch 8/30\n",
            "\u001b[1m39/39\u001b[0m \u001b[32m━━━━━━━━━━━━━━━━━━━━\u001b[0m\u001b[37m\u001b[0m \u001b[1m0s\u001b[0m 6ms/step - accuracy: 0.7252 - loss: 0.9053 - val_accuracy: 0.7532 - val_loss: 0.8261\n",
            "Epoch 9/30\n",
            "\u001b[1m39/39\u001b[0m \u001b[32m━━━━━━━━━━━━━━━━━━━━\u001b[0m\u001b[37m\u001b[0m \u001b[1m0s\u001b[0m 5ms/step - accuracy: 0.7706 - loss: 0.7242 - val_accuracy: 0.7468 - val_loss: 0.8016\n",
            "Epoch 10/30\n",
            "\u001b[1m39/39\u001b[0m \u001b[32m━━━━━━━━━━━━━━━━━━━━\u001b[0m\u001b[37m\u001b[0m \u001b[1m0s\u001b[0m 5ms/step - accuracy: 0.7659 - loss: 0.7406 - val_accuracy: 0.7788 - val_loss: 0.6978\n",
            "Epoch 11/30\n",
            "\u001b[1m39/39\u001b[0m \u001b[32m━━━━━━━━━━━━━━━━━━━━\u001b[0m\u001b[37m\u001b[0m \u001b[1m0s\u001b[0m 5ms/step - accuracy: 0.7989 - loss: 0.6032 - val_accuracy: 0.7788 - val_loss: 0.6727\n",
            "Epoch 12/30\n",
            "\u001b[1m39/39\u001b[0m \u001b[32m━━━━━━━━━━━━━━━━━━━━\u001b[0m\u001b[37m\u001b[0m \u001b[1m0s\u001b[0m 5ms/step - accuracy: 0.8248 - loss: 0.5425 - val_accuracy: 0.7981 - val_loss: 0.6479\n",
            "Epoch 13/30\n",
            "\u001b[1m39/39\u001b[0m \u001b[32m━━━━━━━━━━━━━━━━━━━━\u001b[0m\u001b[37m\u001b[0m \u001b[1m0s\u001b[0m 5ms/step - accuracy: 0.8335 - loss: 0.5183 - val_accuracy: 0.8205 - val_loss: 0.6017\n",
            "Epoch 14/30\n",
            "\u001b[1m39/39\u001b[0m \u001b[32m━━━━━━━━━━━━━━━━━━━━\u001b[0m\u001b[37m\u001b[0m \u001b[1m0s\u001b[0m 5ms/step - accuracy: 0.8333 - loss: 0.4849 - val_accuracy: 0.8141 - val_loss: 0.5843\n",
            "Epoch 15/30\n",
            "\u001b[1m39/39\u001b[0m \u001b[32m━━━━━━━━━━━━━━━━━━━━\u001b[0m\u001b[37m\u001b[0m \u001b[1m0s\u001b[0m 6ms/step - accuracy: 0.8455 - loss: 0.4419 - val_accuracy: 0.8237 - val_loss: 0.5548\n",
            "Epoch 16/30\n",
            "\u001b[1m39/39\u001b[0m \u001b[32m━━━━━━━━━━━━━━━━━━━━\u001b[0m\u001b[37m\u001b[0m \u001b[1m0s\u001b[0m 5ms/step - accuracy: 0.8758 - loss: 0.3784 - val_accuracy: 0.8590 - val_loss: 0.4986\n",
            "Epoch 17/30\n",
            "\u001b[1m39/39\u001b[0m \u001b[32m━━━━━━━━━━━━━━━━━━━━\u001b[0m\u001b[37m\u001b[0m \u001b[1m0s\u001b[0m 6ms/step - accuracy: 0.8962 - loss: 0.3278 - val_accuracy: 0.8333 - val_loss: 0.5055\n",
            "Epoch 18/30\n",
            "\u001b[1m39/39\u001b[0m \u001b[32m━━━━━━━━━━━━━━━━━━━━\u001b[0m\u001b[37m\u001b[0m \u001b[1m0s\u001b[0m 5ms/step - accuracy: 0.8794 - loss: 0.3613 - val_accuracy: 0.8558 - val_loss: 0.4560\n",
            "Epoch 19/30\n",
            "\u001b[1m39/39\u001b[0m \u001b[32m━━━━━━━━━━━━━━━━━━━━\u001b[0m\u001b[37m\u001b[0m \u001b[1m0s\u001b[0m 8ms/step - accuracy: 0.8965 - loss: 0.2999 - val_accuracy: 0.8814 - val_loss: 0.4368\n",
            "Epoch 20/30\n",
            "\u001b[1m39/39\u001b[0m \u001b[32m━━━━━━━━━━━━━━━━━━━━\u001b[0m\u001b[37m\u001b[0m \u001b[1m1s\u001b[0m 6ms/step - accuracy: 0.9053 - loss: 0.2771 - val_accuracy: 0.8622 - val_loss: 0.4907\n",
            "Epoch 21/30\n",
            "\u001b[1m39/39\u001b[0m \u001b[32m━━━━━━━━━━━━━━━━━━━━\u001b[0m\u001b[37m\u001b[0m \u001b[1m0s\u001b[0m 5ms/step - accuracy: 0.9038 - loss: 0.2958 - val_accuracy: 0.8718 - val_loss: 0.4367\n",
            "Epoch 22/30\n",
            "\u001b[1m39/39\u001b[0m \u001b[32m━━━━━━━━━━━━━━━━━━━━\u001b[0m\u001b[37m\u001b[0m \u001b[1m0s\u001b[0m 5ms/step - accuracy: 0.9177 - loss: 0.2515 - val_accuracy: 0.8846 - val_loss: 0.4283\n",
            "Epoch 23/30\n",
            "\u001b[1m39/39\u001b[0m \u001b[32m━━━━━━━━━━━━━━━━━━━━\u001b[0m\u001b[37m\u001b[0m \u001b[1m0s\u001b[0m 5ms/step - accuracy: 0.9028 - loss: 0.2697 - val_accuracy: 0.8878 - val_loss: 0.4146\n",
            "Epoch 24/30\n",
            "\u001b[1m39/39\u001b[0m \u001b[32m━━━━━━━━━━━━━━━━━━━━\u001b[0m\u001b[37m\u001b[0m \u001b[1m0s\u001b[0m 6ms/step - accuracy: 0.9234 - loss: 0.2006 - val_accuracy: 0.9006 - val_loss: 0.3791\n",
            "Epoch 25/30\n",
            "\u001b[1m39/39\u001b[0m \u001b[32m━━━━━━━━━━━━━━━━━━━━\u001b[0m\u001b[37m\u001b[0m \u001b[1m0s\u001b[0m 5ms/step - accuracy: 0.9245 - loss: 0.1958 - val_accuracy: 0.9006 - val_loss: 0.3746\n",
            "Epoch 26/30\n",
            "\u001b[1m39/39\u001b[0m \u001b[32m━━━━━━━━━━━━━━━━━━━━\u001b[0m\u001b[37m\u001b[0m \u001b[1m0s\u001b[0m 5ms/step - accuracy: 0.9336 - loss: 0.1948 - val_accuracy: 0.9103 - val_loss: 0.3897\n",
            "Epoch 27/30\n",
            "\u001b[1m39/39\u001b[0m \u001b[32m━━━━━━━━━━━━━━━━━━━━\u001b[0m\u001b[37m\u001b[0m \u001b[1m0s\u001b[0m 5ms/step - accuracy: 0.9356 - loss: 0.1905 - val_accuracy: 0.8846 - val_loss: 0.4208\n",
            "Epoch 28/30\n",
            "\u001b[1m39/39\u001b[0m \u001b[32m━━━━━━━━━━━━━━━━━━━━\u001b[0m\u001b[37m\u001b[0m \u001b[1m0s\u001b[0m 5ms/step - accuracy: 0.9311 - loss: 0.1886 - val_accuracy: 0.9135 - val_loss: 0.3708\n",
            "Epoch 29/30\n",
            "\u001b[1m39/39\u001b[0m \u001b[32m━━━━━━━━━━━━━━━━━━━━\u001b[0m\u001b[37m\u001b[0m \u001b[1m0s\u001b[0m 5ms/step - accuracy: 0.9431 - loss: 0.1622 - val_accuracy: 0.9071 - val_loss: 0.3648\n",
            "Epoch 30/30\n",
            "\u001b[1m39/39\u001b[0m \u001b[32m━━━━━━━━━━━━━━━━━━━━\u001b[0m\u001b[37m\u001b[0m \u001b[1m0s\u001b[0m 6ms/step - accuracy: 0.9382 - loss: 0.1725 - val_accuracy: 0.9038 - val_loss: 0.4243\n"
          ]
        },
        {
          "output_type": "stream",
          "name": "stderr",
          "text": [
            "WARNING:absl:You are saving your model as an HDF5 file via `model.save()` or `keras.saving.save_model(model)`. This file format is considered legacy. We recommend using instead the native Keras format, e.g. `model.save('my_model.keras')` or `keras.saving.save_model(model, 'my_model.keras')`. \n"
          ]
        },
        {
          "output_type": "stream",
          "name": "stdout",
          "text": [
            "Training accuracy: 0.9391\n",
            "Validation accuracy: 0.9135\n",
            "Model saved as braille_model.h5\n"
          ]
        }
      ]
    },
    {
      "cell_type": "code",
      "source": [
        "import matplotlib.pyplot as plt\n",
        "# Test on a sample image\n",
        "sample_image = X_val[4:5]  # Take first validation image\n",
        "print(f\"Sample image shape: {sample_image.shape}\")\n",
        "prediction = model.predict(sample_image)\n",
        "predicted_label = np.argmax(prediction, axis=1)[0]\n",
        "print(f\"Predicted character: {label_reverse[predicted_label]}\")\n",
        "plt.imshow(sample_image[0].reshape(28, 28), cmap='gray')\n",
        "plt.title(f\"Predicted: {label_reverse[predicted_label]}, Actual: {label_reverse[y_val[4]]}\")\n",
        "plt.show()"
      ],
      "metadata": {
        "colab": {
          "base_uri": "https://localhost:8080/",
          "height": 504
        },
        "id": "9Oxi3faC2ZwI",
        "outputId": "ba8aaab5-5bc6-4b4e-9d01-173933084dcf"
      },
      "execution_count": 10,
      "outputs": [
        {
          "output_type": "stream",
          "name": "stdout",
          "text": [
            "Sample image shape: (1, 28, 28, 1)\n",
            "\u001b[1m1/1\u001b[0m \u001b[32m━━━━━━━━━━━━━━━━━━━━\u001b[0m\u001b[37m\u001b[0m \u001b[1m0s\u001b[0m 499ms/step\n",
            "Predicted character: j\n"
          ]
        },
        {
          "output_type": "display_data",
          "data": {
            "text/plain": [
              "<Figure size 640x480 with 1 Axes>"
            ],
            "image/png": "[encoded data removed]"
          },
          "metadata": {}
        }
      ]
    },
    {
      "cell_type": "code",
      "source": [
        "predictions = model.predict(X_val[0:20])\n",
        "predicted_labels = np.argmax(predictions, axis=1)\n",
        "print(\"Predicted:\", [label_reverse[p] for p in predicted_labels])\n",
        "print(\"Actual:\", [label_reverse[a] for a in y_val[0:20]])"
      ],
      "metadata": {
        "colab": {
          "base_uri": "https://localhost:8080/"
        },
        "id": "W6a0YR8R4-f9",
        "outputId": "4c3960cd-e2fb-4b8e-83f0-e17f650c3bf6"
      },
      "execution_count": 11,
      "outputs": [
        {
          "output_type": "stream",
          "name": "stdout",
          "text": [
            "\u001b[1m1/1\u001b[0m \u001b[32m━━━━━━━━━━━━━━━━━━━━\u001b[0m\u001b[37m\u001b[0m \u001b[1m1s\u001b[0m 507ms/step\n",
            "Predicted: ['g', 'a', 'f', 'r', 'j', 'l', 'a', 'x', 'v', 's', 'i', 'i', 'z', 'c', 'v', 'l', 'a', 'q', 'n', 'g']\n",
            "Actual: ['g', 'a', 'f', 'r', 'j', 'l', 'a', 'x', 'v', 's', 'i', 'i', 'o', 'c', 'v', 'l', 'a', 'q', 'n', 'g']\n"
          ]
        }
      ]
    },
    {
      "cell_type": "code",
      "source": [
        "val_loss, val_accuracy = model.evaluate(X_val, y_val)\n",
        "print(f\"Validation accuracy: {val_accuracy:.4f}\")"
      ],
      "metadata": {
        "colab": {
          "base_uri": "https://localhost:8080/"
        },
        "id": "nWxQ5mSq5OaY",
        "outputId": "7f5406ba-f128-43e5-a861-46945c69d780"
      },
      "execution_count": 12,
      "outputs": [
        {
          "output_type": "stream",
          "name": "stdout",
          "text": [
            "\u001b[1m10/10\u001b[0m \u001b[32m━━━━━━━━━━━━━━━━━━━━\u001b[0m\u001b[37m\u001b[0m \u001b[1m0s\u001b[0m 4ms/step - accuracy: 0.8981 - loss: 0.4031 \n",
            "Validation accuracy: 0.9038\n"
          ]
        }
      ]
    }
  ],
  "metadata": {
    "colab": {
      "provenance": [],
      "gpuType": "T4",
      "authorship_tag": "ABX9TyPYE5Kt3JT8F79pT+6UlmXr",
      "include_colab_link": true
    },
    "kernelspec": {
      "display_name": "Python 3",
      "name": "python3"
    },
    "language_info": {
      "name": "python"
    },
    "accelerator": "GPU"
  },
  "nbformat": 4,
  "nbformat_minor": 0
}