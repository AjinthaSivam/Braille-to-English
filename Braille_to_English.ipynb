{
  "cells": [
    {
      "cell_type": "markdown",
      "metadata": {
        "id": "view-in-github",
        "colab_type": "text"
      },
      "source": [
        "<a href=\"https://colab.research.google.com/github/AjinthaSivam/Braille-to-English/blob/main/Braille_to_English.ipynb\" target=\"_parent\"><img src=\"https://colab.research.google.com/assets/colab-badge.svg\" alt=\"Open In Colab\"/></a>"
      ]
    },
    {
      "cell_type": "code",
      "execution_count": 1,
      "metadata": {
        "id": "ppkt-sVDhSl9"
      },
      "outputs": [],
      "source": [
        "!pip install -qU kagglehub"
      ]
    },
    {
      "cell_type": "code",
      "execution_count": 2,
      "metadata": {
        "id": "TMQ9hWbsiCdY"
      },
      "outputs": [],
      "source": [
        "!mkdir -p ~/.kaggle\n",
        "!mv kaggle.json ~/.kaggle/\n",
        "!chmod 600 ~/.kaggle/kaggle.json"
      ]
    },
    {
      "cell_type": "code",
      "execution_count": 4,
      "metadata": {
        "colab": {
          "base_uri": "https://localhost:8080/"
        },
        "id": "cxss2A7yiw4D",
        "outputId": "8a548390-9acf-4190-a3ed-93e2a4d978c2"
      },
      "outputs": [
        {
          "output_type": "stream",
          "name": "stdout",
          "text": [
            "Path to dataset files: /kaggle/input/braille-character-dataset\n"
          ]
        }
      ],
      "source": [
        "import kagglehub\n",
        "\n",
        "# Download latest version\n",
        "path = kagglehub.dataset_download(\"shanks0465/braille-character-dataset\")\n",
        "\n",
        "print(\"Path to dataset files:\", path)"
      ]
    },
    {
      "cell_type": "code",
      "execution_count": 5,
      "metadata": {
        "id": "BrrWD9yYjJLK"
      },
      "outputs": [],
      "source": [
        "import cv2\n",
        "import numpy as np\n",
        "import tensorflow as tf\n",
        "from tensorflow.keras import layers, models\n",
        "import os\n",
        "from google.colab import files"
      ]
    },
    {
      "cell_type": "code",
      "execution_count": 7,
      "metadata": {
        "id": "o1JgbZBBob3a"
      },
      "outputs": [],
      "source": [
        "def load_braille_dataset(dataset_path):\n",
        "  images = []\n",
        "  labels = []\n",
        "\n",
        "  label_map = {}\n",
        "\n",
        "  for i in range(26):\n",
        "    letter = chr(97 + i)\n",
        "    label_map[letter] = i\n",
        "\n",
        "  print(label_map)\n",
        "\n",
        "  label_reverse = {}\n",
        "\n",
        "  for i in range(26):\n",
        "    letter = chr(97 + i)\n",
        "    label_reverse[i] = letter\n",
        "\n",
        "  print(label_reverse)\n",
        "\n",
        "  for img_name in os.listdir(dataset_path):\n",
        "    if img_name.lower().endswith(('.jpg', 'jpeg')):\n",
        "      img_path = os.path.join(dataset_path, img_name)\n",
        "      img = cv2.imread(img_path, cv2.IMREAD_GRAYSCALE)\n",
        "\n",
        "      if img is not None:\n",
        "        img = cv2.resize(img, (28, 28)) / 255.0\n",
        "        images.append(img)\n",
        "\n",
        "        char = img_name[0].lower()\n",
        "\n",
        "        if char in label_map:\n",
        "          label = label_map[char]\n",
        "          labels.append(label)\n",
        "        else:\n",
        "          print(f\"Unknown character: {char}\")\n",
        "      else:\n",
        "        print(f\"Failed to load image: {img_path}\")\n",
        "    else:\n",
        "      print(f\"Skipping non-image file: {img_name}\")\n",
        "\n",
        "  images = np.array(images).reshape(-1, 28, 28, 1)\n",
        "  labels = np.array(labels)\n",
        "  print(f\"Total images loaded: {len(images)}, Total labels: {len(labels)}\")\n",
        "  return images, labels, label_reverse"
      ]
    },
    {
      "cell_type": "code",
      "execution_count": 10,
      "metadata": {
        "colab": {
          "base_uri": "https://localhost:8080/"
        },
        "id": "idQ9baigzRII",
        "collapsed": true,
        "outputId": "435878cf-856b-4068-fba4-b5cf9f9fa5e7"
      },
      "outputs": [
        {
          "output_type": "stream",
          "name": "stdout",
          "text": [
            "{'a': 0, 'b': 1, 'c': 2, 'd': 3, 'e': 4, 'f': 5, 'g': 6, 'h': 7, 'i': 8, 'j': 9, 'k': 10, 'l': 11, 'm': 12, 'n': 13, 'o': 14, 'p': 15, 'q': 16, 'r': 17, 's': 18, 't': 19, 'u': 20, 'v': 21, 'w': 22, 'x': 23, 'y': 24, 'z': 25}\n",
            "{0: 'a', 1: 'b', 2: 'c', 3: 'd', 4: 'e', 5: 'f', 6: 'g', 7: 'h', 8: 'i', 9: 'j', 10: 'k', 11: 'l', 12: 'm', 13: 'n', 14: 'o', 15: 'p', 16: 'q', 17: 'r', 18: 's', 19: 't', 20: 'u', 21: 'v', 22: 'w', 23: 'x', 24: 'y', 25: 'z'}\n",
            "Total images loaded: 1560, Total labels: 1560\n"
          ]
        }
      ],
      "source": [
        "dataset_path = os.path.join(path, \"Braille Dataset/Braille Dataset\")\n",
        "images, labels, label_reverse = load_braille_dataset(dataset_path)"
      ]
    },
    {
      "cell_type": "code",
      "source": [
        "# Function to create and train the CNN model\n",
        "def create_and_train_model(X_train, y_train, X_val, y_val):\n",
        "    model = models.Sequential([\n",
        "        layers.Conv2D(32, (3, 3), activation='relu', input_shape=(28, 28, 1)),\n",
        "        layers.MaxPooling2D((2, 2)),\n",
        "        layers.Conv2D(64, (3, 3), activation='relu'),\n",
        "        layers.MaxPooling2D((2, 2)),\n",
        "        layers.Conv2D(64, (3, 3), activation='relu'),\n",
        "        layers.Flatten(),\n",
        "        layers.Dense(128, activation='relu'),  # Increased units for better learning\n",
        "        layers.Dropout(0.4),  # Add dropout to prevent overfitting\n",
        "        layers.Dense(26, activation='softmax')  # a-z only\n",
        "    ])\n",
        "\n",
        "    model.compile(optimizer='adam',\n",
        "                  loss='sparse_categorical_crossentropy',\n",
        "                  metrics=['accuracy'])\n",
        "\n",
        "    history = model.fit(X_train, y_train, epochs=25, validation_data=(X_val, y_val),\n",
        "                        batch_size=32)\n",
        "    print(f\"Training accuracy: {max(history.history['accuracy']):.4f}\")\n",
        "    print(f\"Validation accuracy: {max(history.history['val_accuracy']):.4f}\")\n",
        "    return model"
      ],
      "metadata": {
        "id": "Ofw_7ZyW1u1a"
      },
      "execution_count": 38,
      "outputs": []
    },
    {
      "cell_type": "code",
      "source": [
        "from sklearn.model_selection import train_test_split\n",
        "\n",
        "# Split data into training and validation sets\n",
        "X_train, X_val, y_train, y_val = train_test_split(images, labels, test_size=0.2, random_state=42)\n",
        "\n",
        "# Create and train model\n",
        "model = create_and_train_model(X_train, y_train, X_val, y_val)\n",
        "\n",
        "# Save the model\n",
        "model.save(\"braille_model.h5\")\n",
        "print(\"Model saved as braille_model.h5\")"
      ],
      "metadata": {
        "colab": {
          "base_uri": "https://localhost:8080/"
        },
        "id": "KY4G7IuO2D2_",
        "outputId": "5a7fd004-e3e1-41f9-c2ad-64992f85a779"
      },
      "execution_count": 39,
      "outputs": [
        {
          "output_type": "stream",
          "name": "stdout",
          "text": [
            "Epoch 1/25\n"
          ]
        },
        {
          "output_type": "stream",
          "name": "stderr",
          "text": [
            "/usr/local/lib/python3.11/dist-packages/keras/src/layers/convolutional/base_conv.py:107: UserWarning: Do not pass an `input_shape`/`input_dim` argument to a layer. When using Sequential models, prefer using an `Input(shape)` object as the first layer in the model instead.\n",
            "  super().__init__(activity_regularizer=activity_regularizer, **kwargs)\n"
          ]
        },
        {
          "output_type": "stream",
          "name": "stdout",
          "text": [
            "\u001b[1m39/39\u001b[0m \u001b[32m━━━━━━━━━━━━━━━━━━━━\u001b[0m\u001b[37m\u001b[0m \u001b[1m4s\u001b[0m 25ms/step - accuracy: 0.0351 - loss: 3.2650 - val_accuracy: 0.0321 - val_loss: 3.2416\n",
            "Epoch 2/25\n",
            "\u001b[1m39/39\u001b[0m \u001b[32m━━━━━━━━━━━━━━━━━━━━\u001b[0m\u001b[37m\u001b[0m \u001b[1m0s\u001b[0m 5ms/step - accuracy: 0.0832 - loss: 3.1594 - val_accuracy: 0.1891 - val_loss: 2.6383\n",
            "Epoch 3/25\n",
            "\u001b[1m39/39\u001b[0m \u001b[32m━━━━━━━━━━━━━━━━━━━━\u001b[0m\u001b[37m\u001b[0m \u001b[1m0s\u001b[0m 5ms/step - accuracy: 0.2582 - loss: 2.4617 - val_accuracy: 0.5321 - val_loss: 1.8363\n",
            "Epoch 4/25\n",
            "\u001b[1m39/39\u001b[0m \u001b[32m━━━━━━━━━━━━━━━━━━━━\u001b[0m\u001b[37m\u001b[0m \u001b[1m0s\u001b[0m 6ms/step - accuracy: 0.4735 - loss: 1.8172 - val_accuracy: 0.6090 - val_loss: 1.3939\n",
            "Epoch 5/25\n",
            "\u001b[1m39/39\u001b[0m \u001b[32m━━━━━━━━━━━━━━━━━━━━\u001b[0m\u001b[37m\u001b[0m \u001b[1m0s\u001b[0m 5ms/step - accuracy: 0.5766 - loss: 1.3948 - val_accuracy: 0.6506 - val_loss: 1.2075\n",
            "Epoch 6/25\n",
            "\u001b[1m39/39\u001b[0m \u001b[32m━━━━━━━━━━━━━━━━━━━━\u001b[0m\u001b[37m\u001b[0m \u001b[1m0s\u001b[0m 5ms/step - accuracy: 0.6328 - loss: 1.1511 - val_accuracy: 0.7083 - val_loss: 1.0582\n",
            "Epoch 7/25\n",
            "\u001b[1m39/39\u001b[0m \u001b[32m━━━━━━━━━━━━━━━━━━━━\u001b[0m\u001b[37m\u001b[0m \u001b[1m0s\u001b[0m 5ms/step - accuracy: 0.7195 - loss: 0.9640 - val_accuracy: 0.7179 - val_loss: 0.9432\n",
            "Epoch 8/25\n",
            "\u001b[1m39/39\u001b[0m \u001b[32m━━━━━━━━━━━━━━━━━━━━\u001b[0m\u001b[37m\u001b[0m \u001b[1m0s\u001b[0m 5ms/step - accuracy: 0.7167 - loss: 0.8690 - val_accuracy: 0.7244 - val_loss: 0.8728\n",
            "Epoch 9/25\n",
            "\u001b[1m39/39\u001b[0m \u001b[32m━━━━━━━━━━━━━━━━━━━━\u001b[0m\u001b[37m\u001b[0m \u001b[1m0s\u001b[0m 5ms/step - accuracy: 0.7481 - loss: 0.7612 - val_accuracy: 0.7436 - val_loss: 0.7998\n",
            "Epoch 10/25\n",
            "\u001b[1m39/39\u001b[0m \u001b[32m━━━━━━━━━━━━━━━━━━━━\u001b[0m\u001b[37m\u001b[0m \u001b[1m0s\u001b[0m 6ms/step - accuracy: 0.7792 - loss: 0.6600 - val_accuracy: 0.7692 - val_loss: 0.7641\n",
            "Epoch 11/25\n",
            "\u001b[1m39/39\u001b[0m \u001b[32m━━━━━━━━━━━━━━━━━━━━\u001b[0m\u001b[37m\u001b[0m \u001b[1m0s\u001b[0m 5ms/step - accuracy: 0.8009 - loss: 0.6277 - val_accuracy: 0.7724 - val_loss: 0.7397\n",
            "Epoch 12/25\n",
            "\u001b[1m39/39\u001b[0m \u001b[32m━━━━━━━━━━━━━━━━━━━━\u001b[0m\u001b[37m\u001b[0m \u001b[1m0s\u001b[0m 6ms/step - accuracy: 0.8204 - loss: 0.5527 - val_accuracy: 0.7949 - val_loss: 0.6612\n",
            "Epoch 13/25\n",
            "\u001b[1m39/39\u001b[0m \u001b[32m━━━━━━━━━━━━━━━━━━━━\u001b[0m\u001b[37m\u001b[0m \u001b[1m0s\u001b[0m 5ms/step - accuracy: 0.8613 - loss: 0.4372 - val_accuracy: 0.8205 - val_loss: 0.5850\n",
            "Epoch 14/25\n",
            "\u001b[1m39/39\u001b[0m \u001b[32m━━━━━━━━━━━━━━━━━━━━\u001b[0m\u001b[37m\u001b[0m \u001b[1m0s\u001b[0m 5ms/step - accuracy: 0.8529 - loss: 0.4179 - val_accuracy: 0.7981 - val_loss: 0.6358\n",
            "Epoch 15/25\n",
            "\u001b[1m39/39\u001b[0m \u001b[32m━━━━━━━━━━━━━━━━━━━━\u001b[0m\u001b[37m\u001b[0m \u001b[1m0s\u001b[0m 6ms/step - accuracy: 0.8617 - loss: 0.4039 - val_accuracy: 0.8333 - val_loss: 0.5453\n",
            "Epoch 16/25\n",
            "\u001b[1m39/39\u001b[0m \u001b[32m━━━━━━━━━━━━━━━━━━━━\u001b[0m\u001b[37m\u001b[0m \u001b[1m0s\u001b[0m 5ms/step - accuracy: 0.8771 - loss: 0.3800 - val_accuracy: 0.8397 - val_loss: 0.5570\n",
            "Epoch 17/25\n",
            "\u001b[1m39/39\u001b[0m \u001b[32m━━━━━━━━━━━━━━━━━━━━\u001b[0m\u001b[37m\u001b[0m \u001b[1m0s\u001b[0m 5ms/step - accuracy: 0.8853 - loss: 0.3602 - val_accuracy: 0.8333 - val_loss: 0.5787\n",
            "Epoch 18/25\n",
            "\u001b[1m39/39\u001b[0m \u001b[32m━━━━━━━━━━━━━━━━━━━━\u001b[0m\u001b[37m\u001b[0m \u001b[1m0s\u001b[0m 5ms/step - accuracy: 0.9093 - loss: 0.2637 - val_accuracy: 0.8462 - val_loss: 0.5630\n",
            "Epoch 19/25\n",
            "\u001b[1m39/39\u001b[0m \u001b[32m━━━━━━━━━━━━━━━━━━━━\u001b[0m\u001b[37m\u001b[0m \u001b[1m0s\u001b[0m 5ms/step - accuracy: 0.9039 - loss: 0.2748 - val_accuracy: 0.8590 - val_loss: 0.5253\n",
            "Epoch 20/25\n",
            "\u001b[1m39/39\u001b[0m \u001b[32m━━━━━━━━━━━━━━━━━━━━\u001b[0m\u001b[37m\u001b[0m \u001b[1m0s\u001b[0m 6ms/step - accuracy: 0.9088 - loss: 0.2635 - val_accuracy: 0.8462 - val_loss: 0.5291\n",
            "Epoch 21/25\n",
            "\u001b[1m39/39\u001b[0m \u001b[32m━━━━━━━━━━━━━━━━━━━━\u001b[0m\u001b[37m\u001b[0m \u001b[1m0s\u001b[0m 6ms/step - accuracy: 0.9160 - loss: 0.2729 - val_accuracy: 0.8590 - val_loss: 0.5857\n",
            "Epoch 22/25\n",
            "\u001b[1m39/39\u001b[0m \u001b[32m━━━━━━━━━━━━━━━━━━━━\u001b[0m\u001b[37m\u001b[0m \u001b[1m0s\u001b[0m 6ms/step - accuracy: 0.9165 - loss: 0.2468 - val_accuracy: 0.8750 - val_loss: 0.4950\n",
            "Epoch 23/25\n",
            "\u001b[1m39/39\u001b[0m \u001b[32m━━━━━━━━━━━━━━━━━━━━\u001b[0m\u001b[37m\u001b[0m \u001b[1m0s\u001b[0m 7ms/step - accuracy: 0.9199 - loss: 0.2126 - val_accuracy: 0.8397 - val_loss: 0.5368\n",
            "Epoch 24/25\n",
            "\u001b[1m39/39\u001b[0m \u001b[32m━━━━━━━━━━━━━━━━━━━━\u001b[0m\u001b[37m\u001b[0m \u001b[1m0s\u001b[0m 8ms/step - accuracy: 0.9303 - loss: 0.2023 - val_accuracy: 0.8622 - val_loss: 0.4858\n",
            "Epoch 25/25\n",
            "\u001b[1m39/39\u001b[0m \u001b[32m━━━━━━━━━━━━━━━━━━━━\u001b[0m\u001b[37m\u001b[0m \u001b[1m0s\u001b[0m 7ms/step - accuracy: 0.9312 - loss: 0.1864 - val_accuracy: 0.8622 - val_loss: 0.4881\n"
          ]
        },
        {
          "output_type": "stream",
          "name": "stderr",
          "text": [
            "WARNING:absl:You are saving your model as an HDF5 file via `model.save()` or `keras.saving.save_model(model)`. This file format is considered legacy. We recommend using instead the native Keras format, e.g. `model.save('my_model.keras')` or `keras.saving.save_model(model, 'my_model.keras')`. \n"
          ]
        },
        {
          "output_type": "stream",
          "name": "stdout",
          "text": [
            "Training accuracy: 0.9359\n",
            "Validation accuracy: 0.8750\n",
            "Model saved as braille_model.h5\n"
          ]
        }
      ]
    },
    {
      "cell_type": "code",
      "source": [
        "import matplotlib.pyplot as plt\n",
        "# Test on a sample image\n",
        "sample_image = X_val[4:5]  # Take first validation image\n",
        "print(f\"Sample image shape: {sample_image.shape}\")\n",
        "prediction = model.predict(sample_image)\n",
        "predicted_label = np.argmax(prediction, axis=1)[0]\n",
        "print(f\"Predicted character: {label_reverse[predicted_label]}\")\n",
        "plt.imshow(sample_image[0].reshape(28, 28), cmap='gray')\n",
        "plt.title(f\"Predicted: {label_reverse[predicted_label]}, Actual: {label_reverse[y_val[4]]}\")\n",
        "plt.show()"
      ],
      "metadata": {
        "colab": {
          "base_uri": "https://localhost:8080/",
          "height": 504
        },
        "id": "9Oxi3faC2ZwI",
        "outputId": "357b38c2-bd29-4f86-c206-e8275bace42f"
      },
      "execution_count": 40,
      "outputs": [
        {
          "output_type": "stream",
          "name": "stdout",
          "text": [
            "Sample image shape: (1, 28, 28, 1)\n",
            "\u001b[1m1/1\u001b[0m \u001b[32m━━━━━━━━━━━━━━━━━━━━\u001b[0m\u001b[37m\u001b[0m \u001b[1m0s\u001b[0m 259ms/step\n",
            "Predicted character: e\n"
          ]
        },
        {
          "output_type": "display_data",
          "data": {
            "text/plain": [
              "<Figure size 640x480 with 1 Axes>"
            ],
            "image/png": "[encoded data removed]"
          },
          "metadata": {}
        }
      ]
    },
    {
      "cell_type": "code",
      "source": [
        "predictions = model.predict(X_val[0:20])\n",
        "predicted_labels = np.argmax(predictions, axis=1)\n",
        "print(\"Predicted:\", [label_reverse[p] for p in predicted_labels])\n",
        "print(\"Actual:\", [label_reverse[a] for a in y_val[0:20]])"
      ],
      "metadata": {
        "colab": {
          "base_uri": "https://localhost:8080/"
        },
        "id": "W6a0YR8R4-f9",
        "outputId": "15d37207-5c00-4692-efa5-c583901187e8"
      },
      "execution_count": 43,
      "outputs": [
        {
          "output_type": "stream",
          "name": "stdout",
          "text": [
            "\u001b[1m1/1\u001b[0m \u001b[32m━━━━━━━━━━━━━━━━━━━━\u001b[0m\u001b[37m\u001b[0m \u001b[1m0s\u001b[0m 28ms/step\n",
            "Predicted: ['j', 'a', 'p', 'e', 'e', 'i', 'u', 'k', 'p', 'f', 'g', 'w', 'o', 'g', 'g', 'i', 'z', 'e', 'f', 'i']\n",
            "Actual: ['j', 'a', 'p', 'e', 'o', 'i', 'u', 'k', 'p', 'f', 'n', 'w', 's', 'g', 'g', 'i', 'z', 'e', 'f', 's']\n"
          ]
        }
      ]
    },
    {
      "cell_type": "code",
      "source": [
        "val_loss, val_accuracy = model.evaluate(X_val, y_val)\n",
        "print(f\"Validation accuracy: {val_accuracy:.4f}\")"
      ],
      "metadata": {
        "colab": {
          "base_uri": "https://localhost:8080/"
        },
        "id": "nWxQ5mSq5OaY",
        "outputId": "e0c38f47-e583-46e1-c92c-6466fa936344"
      },
      "execution_count": 37,
      "outputs": [
        {
          "output_type": "stream",
          "name": "stdout",
          "text": [
            "\u001b[1m10/10\u001b[0m \u001b[32m━━━━━━━━━━━━━━━━━━━━\u001b[0m\u001b[37m\u001b[0m \u001b[1m0s\u001b[0m 4ms/step - accuracy: 0.8251 - loss: 0.6043 \n",
            "Validation accuracy: 0.8462\n"
          ]
        }
      ]
    }
  ],
  "metadata": {
    "colab": {
      "provenance": [],
      "gpuType": "T4",
      "authorship_tag": "ABX9TyOEh5rk02dOOKmz4ce0Rywc",
      "include_colab_link": true
    },
    "kernelspec": {
      "display_name": "Python 3",
      "name": "python3"
    },
    "language_info": {
      "name": "python"
    },
    "accelerator": "GPU"
  },
  "nbformat": 4,
  "nbformat_minor": 0
}